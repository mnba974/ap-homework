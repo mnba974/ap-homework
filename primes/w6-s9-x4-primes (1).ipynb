{
 "cells": [
  {
   "cell_type": "markdown",
   "id": "f9f0c234",
   "metadata": {},
   "source": [
    "<div class=\"licence\">\n",
    "<span>Licence CC BY-NC-ND</span>\n",
    "<span>Thierry Parmentelat &amp; Arnaud Legout</span>\n",
    "<span><img src=\"media/both-logos-small-alpha.png\" /></span>\n",
    "</div>"
   ]
  },
  {
   "cell_type": "markdown",
   "id": "df79c45d",
   "metadata": {},
   "source": [
    "# Exercice - niveau avancé"
   ]
  },
  {
   "cell_type": "markdown",
   "id": "7f46106e",
   "metadata": {},
   "source": [
    "## itérateurs et générateurs\n",
    "\n",
    "**Tous les exercices** de ce notebook vous demandent d'écrire\n",
    "des fonctions qui **construisent des itérateurs**."
   ]
  },
  {
   "cell_type": "code",
   "execution_count": null,
   "id": "e1461557",
   "metadata": {},
   "outputs": [],
   "source": [
    "import itertools"
   ]
  },
  {
   "cell_type": "markdown",
   "id": "329cd63b",
   "metadata": {},
   "source": [
    "## 1. Nombres premiers"
   ]
  },
  {
   "cell_type": "markdown",
   "id": "5fe277ec",
   "metadata": {},
   "source": [
    "On vous demande d'écrire un générateur qui énumère les nombres premiers.\n",
    "\n",
    "Naturellement il existe de nombreuses biliothèques pour cela, mais on vous demande ici d'écrire votre propre algorithme, même s'il est naïf."
   ]
  },
  {
   "cell_type": "code",
   "execution_count": null,
   "id": "720cc8ce",
   "metadata": {},
   "outputs": [],
   "source": [
    "from corrections.gen_primes import exo_primes\n",
    "exo_primes.example()"
   ]
  },
  {
   "cell_type": "markdown",
   "id": "6ec03d61",
   "metadata": {},
   "source": [
    "Le générateur ne s'arrête donc jamais, c'est un générateur infini comme `itertools.count()`.\n",
    "Le système de correction automatique est capable d'extraire certaines parties du flux du générateur, avec une convention voisine de `range()` et/ou du *slicing*.\n",
    "\n",
    "Ainsi par exemple le deuxième jeu de test, sous-titré `1 → 5 / 2`, va retenir les éléments énumérés par le générateur aux itérations *1, 3 et 5* - en commençant bien sûr à compter à 0."
   ]
  },
  {
   "cell_type": "markdown",
   "id": "69c8b630",
   "metadata": {},
   "source": [
    "**NOTES**\n",
    "\n",
    "* Évidemment, il vous faut retourner un itérateur, et la correction automatique vérifiera ce point.\n",
    "* Notez aussi que, lorsqu'on cherche à déterminer si $n$ est entier, on a nécessairement déjà fait ce travail sur tous les entiers plus petits que $n$. Il est donc tentant, et fortement recommandé, de profiter de cette information pour accélérer l'algorithme.\n",
    "* Si votre algorithme est très lent ou faux, vous pouvez *perdre* le *kernel* (en français noyau), c'est-à-dire qu'il calcule pendant très longtemps (ou pour toujours) ; dans ces cas-là, la marge gauche indique `In [*]:` et l'étoile n'est jamais remplacée par un chiffre.\n",
    "  Il vous **faut alors interrompre** votre kernel ; pour cela utilisez le menu *Kernel* qui a des options pour interrompre ou redémarrer le kernel courant ; les raccourcis clavier `i i` et `0 0` permettent aussi d'interrompre et redémarrer le noyau."
   ]
  },
  {
   "cell_type": "code",
   "execution_count": null,
   "id": "eab9d70e",
   "metadata": {},
   "outputs": [],
   "source": [
    "# à vous de jouer\n",
    "\n",
    "def primes():\n",
    "    def isprime(x,en):\n",
    "        for c in en:\n",
    "            if c>int(x**0.5):\n",
    "                break\n",
    "            if x%c==0:\n",
    "                return False\n",
    "        en.append(x)\n",
    "        return True\n",
    "    en=[2]\n",
    "    for i in itertools.count(2):\n",
    "        if isprime(i,en):\n",
    "            yield i\n",
    "        "
   ]
  },
  {
   "cell_type": "code",
   "execution_count": null,
   "id": "b7c38825",
   "metadata": {},
   "outputs": [],
   "source": [
    "# pour corriger votre code\n",
    "exo_primes.correction(primes)"
   ]
  },
  {
   "cell_type": "markdown",
   "id": "13af83e2",
   "metadata": {},
   "source": [
    "##### zone de debug"
   ]
  },
  {
   "cell_type": "code",
   "execution_count": null,
   "id": "a6bb9fe2",
   "metadata": {},
   "outputs": [],
   "source": [
    "# à toutes fins utiles\n",
    "\n",
    "MAX = 10\n",
    "\n",
    "iterator = primes()\n",
    "\n",
    "for index, prime in enumerate(itertools.islice(iterator, MAX)):\n",
    "    print(f\"{index} -> {prime}\")"
   ]
  },
  {
   "cell_type": "markdown",
   "id": "6ae1ba9a",
   "metadata": {},
   "source": [
    "***\n",
    "***\n",
    "***"
   ]
  },
  {
   "cell_type": "markdown",
   "id": "5b259e91",
   "metadata": {},
   "source": [
    "## 2. Les carrés des nombres premiers"
   ]
  },
  {
   "cell_type": "markdown",
   "id": "8b389389",
   "metadata": {},
   "source": [
    "On veut à présent énumérer les carrés des nombres premiers\n",
    "\n",
    "**NOTE** il y a au moins deux façons triviales de parvenir au résultat."
   ]
  },
  {
   "cell_type": "code",
   "execution_count": null,
   "id": "8139b8cb",
   "metadata": {},
   "outputs": [],
   "source": [
    "from corrections.gen_primes import exo_prime_squares\n",
    "exo_prime_squares.example()"
   ]
  },
  {
   "cell_type": "code",
   "execution_count": null,
   "id": "42f55355",
   "metadata": {},
   "outputs": [],
   "source": [
    "# à vous\n",
    "\n",
    "def prime_squares():\n",
    "    for c in primes():\n",
    "        yield c**2"
   ]
  },
  {
   "cell_type": "code",
   "execution_count": null,
   "id": "16e77453",
   "metadata": {},
   "outputs": [],
   "source": [
    "exo_prime_squares.correction(prime_squares)"
   ]
  },
  {
   "cell_type": "markdown",
   "id": "65539b7f",
   "metadata": {},
   "source": [
    "***\n",
    "***\n",
    "***"
   ]
  },
  {
   "cell_type": "markdown",
   "id": "cf40b37f",
   "metadata": {},
   "source": [
    "## 3. Combinaisons d'itérateurs"
   ]
  },
  {
   "cell_type": "markdown",
   "id": "54613f63",
   "metadata": {},
   "source": [
    "On vous demande d'écrire un itérateur qui énumère des couples :\n",
    "\n",
    "* en première position, on veut trouver les nombres premiers, mais avec un décalage :  \n",
    "  les **cinq premiers tuples** contiennent `1`, puis le sixième contient 2, et à partir de là les nombres premiers ;\n",
    "* en deuxième position, les carrés des nombres premiers, sans décalage :"
   ]
  },
  {
   "cell_type": "markdown",
   "id": "c63bdbac",
   "metadata": {},
   "source": [
    "**NOTE**  \n",
    "Il peut être tentant de créer deux instances de l'itérateur `primes()` ; toutefois c'est cet objet qui demande le plus de temps de calcul, aussi on vous suggère de réfléchir, en option, à une solution qui ne crée qu'un seul exemplaire de cet itérateur."
   ]
  },
  {
   "cell_type": "code",
   "execution_count": null,
   "id": "b0e99aa4",
   "metadata": {},
   "outputs": [],
   "source": [
    "from corrections.gen_primes import exo_prime_legos\n",
    "exo_prime_legos.example()"
   ]
  },
  {
   "cell_type": "code",
   "execution_count": null,
   "id": "dff9ee69",
   "metadata": {},
   "outputs": [],
   "source": [
    "# à vous de jouer\n",
    "\n",
    "def prime_legos():\n",
    "    for c in zip(itertools.chain(itertools.repeat(1,5),primes()),prime_squares()):\n",
    "        yield c\n",
    "        "
   ]
  },
  {
   "cell_type": "code",
   "execution_count": null,
   "id": "7c8e962e",
   "metadata": {},
   "outputs": [],
   "source": [
    "exo_prime_legos.correction(prime_legos)"
   ]
  },
  {
   "cell_type": "markdown",
   "id": "e4acfcd3",
   "metadata": {},
   "source": [
    "##### zone de benchmarking\n",
    "\n",
    "un ordre de grandeur: pour le code suivant, ma solution prend environ 60ms  \n",
    "la cellule, qui fait le calcul 5 * 5 fois, prend environ 2s à afficher le résultat"
   ]
  },
  {
   "cell_type": "code",
   "execution_count": null,
   "id": "2425691f",
   "metadata": {},
   "outputs": [],
   "source": [
    "%%timeit -n 5 -r 5\n",
    "\n",
    "N = 10_000\n",
    "\n",
    "P = prime_legos()\n",
    "for x in range(N): next(P)"
   ]
  },
  {
   "cell_type": "markdown",
   "id": "9b5a82e4",
   "metadata": {},
   "source": [
    "***\n",
    "***\n",
    "***"
   ]
  },
  {
   "cell_type": "markdown",
   "id": "892d97fd",
   "metadata": {},
   "source": [
    "## 4. Les $n$-ièmes nombres premiers, avec $n$ premier"
   ]
  },
  {
   "cell_type": "markdown",
   "id": "19d953e9",
   "metadata": {},
   "source": [
    "On vous demande d'implémenter un itérateur qui renvoie les $n$-ièmes nombres premiers, mais seulement pour $n$ premier.\n",
    "\n",
    "Ainsi comme `primes()` retourne la suite\n",
    "\n",
    "| indice | premier |\n",
    "|--------|---------|\n",
    "| 0 | 2 |\n",
    "| 1 | 3 |\n",
    "| 2 | 5 |\n",
    "| 3 | 7 |\n",
    "| 4 | 11|\n",
    "| 5 | 13|\n",
    "| 6 | 17|\n",
    "| 7 | 19|\n",
    "\n",
    "on veut que `prime_th_primes` retourne la suite\n",
    "\n",
    "| indice | premier |\n",
    "|--------|---------|\n",
    "| 0 | 5 |\n",
    "| 1 | 7 |\n",
    "| 2 | 13|\n",
    "| 3 | 19|"
   ]
  },
  {
   "cell_type": "code",
   "execution_count": null,
   "id": "62e044cb",
   "metadata": {},
   "outputs": [],
   "source": [
    "# ce qui est illustré sur cet exemple calculé, qui va un peu plus loin\n",
    "\n",
    "from corrections.gen_primes import exo_prime_th_primes\n",
    "exo_prime_th_primes.example()"
   ]
  },
  {
   "cell_type": "code",
   "execution_count": null,
   "id": "edc4c761",
   "metadata": {},
   "outputs": [],
   "source": [
    "# À vous de jouer\n",
    "\n",
    "def prime_th_primes():\n",
    "    dic={}\n",
    "    k=0\n",
    "    for i,p in enumerate(primes()):\n",
    "        dic[i]=p\n",
    "        if dic[k] in dic:\n",
    "            yield dic[dic[k]]\n",
    "            k+=1\n",
    "    "
   ]
  },
  {
   "cell_type": "code",
   "execution_count": null,
   "id": "a1204d0b",
   "metadata": {},
   "outputs": [],
   "source": [
    "# pour corriger votre code\n",
    "exo_prime_th_primes.correction(prime_th_primes)"
   ]
  },
  {
   "cell_type": "markdown",
   "id": "9e0b24ca",
   "metadata": {},
   "source": [
    "##### zone de benchmarking\n",
    "\n",
    "un ordre de grandeur: pour le code suivant, ma solution prend environ 150ms  \n",
    "la cellule, qui fait le calcul 3 * 3 fois, prend environ 1.5s à afficher le résultat"
   ]
  },
  {
   "cell_type": "code",
   "execution_count": null,
   "id": "835f95df",
   "metadata": {},
   "outputs": [],
   "source": [
    "%%timeit -n 3 -r 3\n",
    "\n",
    "N = 2_000\n",
    "\n",
    "P = prime_th_primes()\n",
    "for x in range(N): next(P)"
   ]
  },
  {
   "cell_type": "code",
   "execution_count": null,
   "id": "030fcd3e",
   "metadata": {},
   "outputs": [],
   "source": []
  }
 ],
 "metadata": {
  "jupytext": {
   "cell_metadata_filter": "all, -hidden, -heading_collapsed, -run_control, -trusted",
   "encoding": "# -*- coding: utf-8 -*-",
   "notebook_metadata_filter": "all, -jupytext.text_representation.jupytext_version, -jupytext.text_representation.format_version, -language_info.version, -language_info.codemirror_mode.version, -language_info.codemirror_mode, -language_info.file_extension, -language_info.mimetype, -toc",
   "text_representation": {
    "extension": ".md",
    "format_name": "myst"
   }
  },
  "kernelspec": {
   "display_name": "Python 3 (ipykernel)",
   "language": "python",
   "name": "python3"
  },
  "language_info": {
   "name": "python",
   "nbconvert_exporter": "python",
   "pygments_lexer": "ipython3"
  },
  "notebookname": "exercice: nombres premiers",
  "version": "3.0"
 },
 "nbformat": 4,
 "nbformat_minor": 5
}
