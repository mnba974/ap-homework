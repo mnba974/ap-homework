{
 "cells": [
  {
   "cell_type": "markdown",
   "id": "3a048572",
   "metadata": {},
   "source": [
    "<div class=\"licence\">\n",
    "<span>Licence CC BY-NC-ND</span>\n",
    "<span>Thierry Parmentelat &amp; Arnaud Legout</span>\n",
    "<span><img src=\"media/both-logos-small-alpha.png\" /></span>\n",
    "</div>"
   ]
  },
  {
   "cell_type": "markdown",
   "id": "a3ee6971",
   "metadata": {},
   "source": [
    "# Compréhensions"
   ]
  },
  {
   "cell_type": "markdown",
   "id": "0e00ee99",
   "metadata": {},
   "source": [
    "## Exercice - niveau basique\n",
    "\n",
    "Il vous est demandé d'écrire une fonction `aplatir` qui prend *un unique* argument `l_conteneurs` qui est une liste (ou plus généralement un itérable) de conteneurs (ou plus généralement d'itérables), et qui retourne la liste de tous les éléments de tous les conteneurs."
   ]
  },
  {
   "cell_type": "code",
   "execution_count": null,
   "id": "aad61d7c",
   "metadata": {},
   "outputs": [],
   "source": [
    "# par exemple\n",
    "from corrections.exo_aplatir import exo_aplatir\n",
    "exo_aplatir.example()"
   ]
  },
  {
   "cell_type": "code",
   "execution_count": null,
   "id": "9dad07c6",
   "metadata": {},
   "outputs": [],
   "source": [
    "def aplatir(conteneurs):\n",
    "    l=[]\n",
    "    for c in conteneurs:\n",
    "        for j in c:\n",
    "            l.append(j)\n",
    "    return l"
   ]
  },
  {
   "cell_type": "code",
   "execution_count": null,
   "id": "863d50ea",
   "metadata": {},
   "outputs": [],
   "source": [
    "# vérifier votre code\n",
    "exo_aplatir.correction(aplatir)"
   ]
  },
  {
   "cell_type": "markdown",
   "id": "581d181f",
   "metadata": {},
   "source": [
    "## Exercice - niveau intermédiaire\n",
    "\n",
    "À présent, on passe en argument deux conteneurs (deux itérables) `c1` et `c2` de même taille à la fonction `alternat`, qui doit construire une liste contenant les éléments pris alternativement dans `c1` et dans `c2`."
   ]
  },
  {
   "cell_type": "code",
   "execution_count": null,
   "id": "0fdb2b86",
   "metadata": {},
   "outputs": [],
   "source": [
    "# exemple\n",
    "from corrections.exo_alternat import exo_alternat\n",
    "exo_alternat.example()"
   ]
  },
  {
   "cell_type": "markdown",
   "id": "0420f419",
   "metadata": {},
   "source": [
    "**Indice** pour cet exercice il peut être pertinent de recourir à la fonction *built-in* `zip`."
   ]
  },
  {
   "cell_type": "code",
   "execution_count": null,
   "id": "fe08b706",
   "metadata": {},
   "outputs": [],
   "source": [
    "def alternat(c1, c2):\n",
    "    l=[]\n",
    "    for a,b in zip(c1,c2):\n",
    "        l.append(a)\n",
    "        l.append(b)\n",
    "    return l"
   ]
  },
  {
   "cell_type": "code",
   "execution_count": null,
   "id": "f3ae6deb",
   "metadata": {},
   "outputs": [],
   "source": [
    "# pour vérifier votre code\n",
    "exo_alternat.correction(alternat)"
   ]
  },
  {
   "cell_type": "markdown",
   "id": "c1127980",
   "metadata": {},
   "source": [
    "## Exercice - niveau intermédiaire"
   ]
  },
  {
   "cell_type": "markdown",
   "id": "425f5fe3",
   "metadata": {},
   "source": [
    "On se donne deux ensembles A et B de tuples de la forme\n",
    "\n",
    "```python\n",
    "(entier, valeur)\n",
    "```\n",
    "\n",
    "On vous demande d'écrire une fonction `intersect` qui retourne l'ensemble des objets `valeur` associés (dans A ou dans B) à un entier qui soit présent dans (un tuple de) A *et* dans (un tuple de) B."
   ]
  },
  {
   "cell_type": "code",
   "execution_count": null,
   "id": "4deaf69e",
   "metadata": {},
   "outputs": [],
   "source": [
    "# un exemple\n",
    "from corrections.exo_intersect import exo_intersect\n",
    "exo_intersect.example()"
   ]
  },
  {
   "cell_type": "code",
   "execution_count": null,
   "id": "62c62573",
   "metadata": {},
   "outputs": [],
   "source": [
    "def intersect(A, B):\n",
    "    en=set()\n",
    "    for a in A:\n",
    "        for b in B:\n",
    "            if a[0]==b[0]:\n",
    "                en.add(a[1])\n",
    "                en.add(b[1])\n",
    "    return en"
   ]
  },
  {
   "cell_type": "code",
   "execution_count": null,
   "id": "7f1fb4ea",
   "metadata": {},
   "outputs": [],
   "source": [
    "# pour vérifier votre code\n",
    "exo_intersect.correction(intersect)"
   ]
  },
  {
   "cell_type": "code",
   "execution_count": null,
   "id": "2f310b1c",
   "metadata": {},
   "outputs": [],
   "source": []
  }
 ],
 "metadata": {
  "jupytext": {
   "cell_metadata_filter": "all, -hidden, -heading_collapsed, -run_control, -trusted",
   "notebook_metadata_filter": "all, -jupytext.text_representation.jupytext_version, -jupytext.text_representation.format_version, -language_info.version, -language_info.codemirror_mode.version, -language_info.codemirror_mode, -language_info.file_extension, -language_info.mimetype, -toc",
   "text_representation": {
    "extension": ".md",
    "format_name": "myst"
   }
  },
  "kernelspec": {
   "display_name": "Python 3 (ipykernel)",
   "language": "python",
   "name": "python3"
  },
  "language_info": {
   "name": "python",
   "nbconvert_exporter": "python",
   "pygments_lexer": "ipython3"
  },
  "notebookname": "Compréhensions",
  "version": "3.0"
 },
 "nbformat": 4,
 "nbformat_minor": 5
}
